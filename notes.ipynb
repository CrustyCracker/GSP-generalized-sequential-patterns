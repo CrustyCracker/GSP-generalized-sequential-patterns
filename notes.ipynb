{
 "cells": [
  {
   "cell_type": "markdown",
   "metadata": {},
   "source": [
    "GSP stands for \"Generalized Sequential Pattern.\" It's a data mining algorithm used to discover sequential patterns in datasets, particularly in the context of sequential data such as time-series or transactional data. GSP is an extension and improvement of the traditional sequential pattern mining algorithm called Apriori.\n",
    "\n",
    "In the paper \"Mining Sequential Patterns: Generalizations and Performance Improvements\" by Mohammed J. Zaki, Srinivasan Parthasarathy, Mitsunori Ogihara, and Wei Li, GSP was introduced as a method to efficiently discover patterns that occur frequently in sequences of events or items.\n",
    "\n",
    "The key improvements and generalizations introduced by GSP include:\n",
    "\n",
    "Flexible Pattern Representation: GSP allows patterns to have gaps or be interleaved with other events, making it more flexible and capable of capturing a wider range of sequential relationships.\n",
    "Efficient Algorithm: The GSP algorithm is designed to efficiently mine sequential patterns by avoiding unnecessary candidate generation and pruning techniques, making it more scalable for large datasets.\n",
    "Parameter Tuning: GSP provides parameters that allow users to control the minimum support threshold and the maximum gap between elements in a pattern, providing flexibility in pattern discovery.\n",
    "Overall, GSP is a significant advancement in sequential pattern mining, enabling the discovery of more complex and meaningful patterns in various types of sequential data."
   ]
  },
  {
   "cell_type": "code",
   "execution_count": 1,
   "metadata": {},
   "outputs": [
    {
     "ename": "TypeError",
     "evalue": "can only concatenate str (not \"tuple\") to str",
     "output_type": "error",
     "traceback": [
      "\u001b[1;31m---------------------------------------------------------------------------\u001b[0m",
      "\u001b[1;31mTypeError\u001b[0m                                 Traceback (most recent call last)",
      "Cell \u001b[1;32mIn[1], line 58\u001b[0m\n\u001b[0;32m     49\u001b[0m transactions \u001b[38;5;241m=\u001b[39m [\n\u001b[0;32m     50\u001b[0m     (\u001b[38;5;124m'\u001b[39m\u001b[38;5;124ma\u001b[39m\u001b[38;5;124m'\u001b[39m, \u001b[38;5;124m'\u001b[39m\u001b[38;5;124mb\u001b[39m\u001b[38;5;124m'\u001b[39m, \u001b[38;5;124m'\u001b[39m\u001b[38;5;124mc\u001b[39m\u001b[38;5;124m'\u001b[39m, \u001b[38;5;124m'\u001b[39m\u001b[38;5;124md\u001b[39m\u001b[38;5;124m'\u001b[39m),\n\u001b[0;32m     51\u001b[0m     (\u001b[38;5;124m'\u001b[39m\u001b[38;5;124mb\u001b[39m\u001b[38;5;124m'\u001b[39m, \u001b[38;5;124m'\u001b[39m\u001b[38;5;124mc\u001b[39m\u001b[38;5;124m'\u001b[39m, \u001b[38;5;124m'\u001b[39m\u001b[38;5;124md\u001b[39m\u001b[38;5;124m'\u001b[39m),\n\u001b[1;32m   (...)\u001b[0m\n\u001b[0;32m     54\u001b[0m     (\u001b[38;5;124m'\u001b[39m\u001b[38;5;124ma\u001b[39m\u001b[38;5;124m'\u001b[39m, \u001b[38;5;124m'\u001b[39m\u001b[38;5;124mc\u001b[39m\u001b[38;5;124m'\u001b[39m)\n\u001b[0;32m     55\u001b[0m ]\n\u001b[0;32m     57\u001b[0m min_support \u001b[38;5;241m=\u001b[39m \u001b[38;5;241m3\u001b[39m\n\u001b[1;32m---> 58\u001b[0m result \u001b[38;5;241m=\u001b[39m \u001b[43mgsp\u001b[49m\u001b[43m(\u001b[49m\u001b[43mtransactions\u001b[49m\u001b[43m,\u001b[49m\u001b[43m \u001b[49m\u001b[43mmin_support\u001b[49m\u001b[43m)\u001b[49m\n\u001b[0;32m     59\u001b[0m \u001b[38;5;28mprint\u001b[39m(\u001b[38;5;124m\"\u001b[39m\u001b[38;5;124mFrequent Itemsets:\u001b[39m\u001b[38;5;124m\"\u001b[39m)\n\u001b[0;32m     60\u001b[0m \u001b[38;5;28;01mfor\u001b[39;00m k, itemsets \u001b[38;5;129;01min\u001b[39;00m result\u001b[38;5;241m.\u001b[39mitems():\n",
      "Cell \u001b[1;32mIn[1], line 40\u001b[0m, in \u001b[0;36mgsp\u001b[1;34m(transactions, min_support)\u001b[0m\n\u001b[0;32m     38\u001b[0m     frequent_itemsets[k] \u001b[38;5;241m=\u001b[39m frequent_1_itemsets\n\u001b[0;32m     39\u001b[0m \u001b[38;5;28;01melse\u001b[39;00m:\n\u001b[1;32m---> 40\u001b[0m     candidates \u001b[38;5;241m=\u001b[39m \u001b[43mgenerate_candidate_itemsets\u001b[49m\u001b[43m(\u001b[49m\u001b[43mfrequent_itemsets\u001b[49m\u001b[43m[\u001b[49m\u001b[43mk\u001b[49m\u001b[38;5;241;43m-\u001b[39;49m\u001b[38;5;241;43m1\u001b[39;49m\u001b[43m]\u001b[49m\u001b[43m,\u001b[49m\u001b[43m \u001b[49m\u001b[43mk\u001b[49m\u001b[43m)\u001b[49m\n\u001b[0;32m     41\u001b[0m     \u001b[38;5;28;01mif\u001b[39;00m \u001b[38;5;28mlen\u001b[39m(candidates) \u001b[38;5;241m==\u001b[39m \u001b[38;5;241m0\u001b[39m:\n\u001b[0;32m     42\u001b[0m         \u001b[38;5;28;01mbreak\u001b[39;00m\n",
      "Cell \u001b[1;32mIn[1], line 17\u001b[0m, in \u001b[0;36mgenerate_candidate_itemsets\u001b[1;34m(frequent_itemsets, k)\u001b[0m\n\u001b[0;32m     15\u001b[0m \u001b[38;5;28;01mfor\u001b[39;00m itemset2 \u001b[38;5;129;01min\u001b[39;00m frequent_itemsets:\n\u001b[0;32m     16\u001b[0m     \u001b[38;5;28;01mif\u001b[39;00m itemset1[:\u001b[38;5;241m-\u001b[39m\u001b[38;5;241m1\u001b[39m] \u001b[38;5;241m==\u001b[39m itemset2[:\u001b[38;5;241m-\u001b[39m\u001b[38;5;241m1\u001b[39m] \u001b[38;5;129;01mand\u001b[39;00m itemset1[\u001b[38;5;241m-\u001b[39m\u001b[38;5;241m1\u001b[39m] \u001b[38;5;241m<\u001b[39m itemset2[\u001b[38;5;241m-\u001b[39m\u001b[38;5;241m1\u001b[39m]:\n\u001b[1;32m---> 17\u001b[0m         candidate \u001b[38;5;241m=\u001b[39m \u001b[43mitemset1\u001b[49m\u001b[43m \u001b[49m\u001b[38;5;241;43m+\u001b[39;49m\u001b[43m \u001b[49m\u001b[43m(\u001b[49m\u001b[43mitemset2\u001b[49m\u001b[43m[\u001b[49m\u001b[38;5;241;43m-\u001b[39;49m\u001b[38;5;241;43m1\u001b[39;49m\u001b[43m]\u001b[49m\u001b[43m,\u001b[49m\u001b[43m)\u001b[49m\n\u001b[0;32m     18\u001b[0m         \u001b[38;5;28;01mif\u001b[39;00m \u001b[38;5;28mall\u001b[39m(\u001b[38;5;28mtuple\u001b[39m(\u001b[38;5;28msorted\u001b[39m(subset)) \u001b[38;5;129;01min\u001b[39;00m frequent_itemsets \u001b[38;5;28;01mfor\u001b[39;00m subset \u001b[38;5;129;01min\u001b[39;00m combinations(candidate, k \u001b[38;5;241m-\u001b[39m \u001b[38;5;241m1\u001b[39m)):\n\u001b[0;32m     19\u001b[0m             candidates\u001b[38;5;241m.\u001b[39mappend(candidate)\n",
      "\u001b[1;31mTypeError\u001b[0m: can only concatenate str (not \"tuple\") to str"
     ]
    }
   ],
   "source": [
    "from collections import defaultdict\n",
    "\n",
    "\n",
    "def find_frequent_1_itemsets(transactions, min_support):\n",
    "    item_counts = defaultdict(int)\n",
    "    for transaction in transactions:\n",
    "        for item in transaction:\n",
    "            item_counts[item] += 1\n",
    "            \n",
    "    frequent_1_itemsets = {itemset: count for itemset, count in item_counts.items() if count >= min_support}\n",
    "    return frequent_1_itemsets\n",
    "\n",
    "def generate_candidate_itemsets(frequent_itemsets, k):\n",
    "    candidates = []\n",
    "    for itemset1 in frequent_itemsets:\n",
    "        for itemset2 in frequent_itemsets:\n",
    "            if itemset1[:-1] == itemset2[:-1] and itemset1[-1] < itemset2[-1]:\n",
    "                candidate = itemset1 + (itemset2[-1],)\n",
    "                if all(tuple(sorted(subset)) in frequent_itemsets for subset in combinations(candidate, k - 1)):\n",
    "                    candidates.append(candidate)\n",
    "    return candidates\n",
    "\n",
    "def count_support(transactions, candidates):\n",
    "    itemset_counts = defaultdict(int)\n",
    "    for transaction in transactions:\n",
    "        for candidate in candidates:\n",
    "            if set(candidate).issubset(set(transaction)):\n",
    "                itemset_counts[candidate] += 1\n",
    "    return itemset_counts\n",
    "\n",
    "def gsp(transactions, min_support):\n",
    "    frequent_itemsets = {}\n",
    "    k = 1\n",
    "    while True:\n",
    "        if k == 1:\n",
    "            frequent_1_itemsets = find_frequent_1_itemsets(transactions, min_support)\n",
    "            if len(frequent_1_itemsets) == 0:\n",
    "                break\n",
    "            frequent_itemsets[k] = frequent_1_itemsets\n",
    "        else:\n",
    "            candidates = generate_candidate_itemsets(frequent_itemsets[k-1], k)\n",
    "            if len(candidates) == 0:\n",
    "                break\n",
    "            candidate_counts = count_support(transactions, candidates)\n",
    "            frequent_itemsets[k] = {itemset: count for itemset, count in candidate_counts.items() if count >= min_support}\n",
    "        k += 1\n",
    "    return frequent_itemsets\n",
    "\n",
    "# Example usage:\n",
    "transactions = [\n",
    "    ('a', 'b', 'c', 'd'),\n",
    "    ('b', 'c', 'd'),\n",
    "    ('a', 'd'),\n",
    "    ('a', 'c', 'd'),\n",
    "    ('a', 'c')\n",
    "]\n",
    "\n",
    "min_support = 3\n",
    "result = gsp(transactions, min_support)\n",
    "print(\"Frequent Itemsets:\")\n",
    "for k, itemsets in result.items():\n",
    "    print(f\"k = {k}: {itemsets}\")\n"
   ]
  }
 ],
 "metadata": {
  "kernelspec": {
   "display_name": "Python 3",
   "language": "python",
   "name": "python3"
  },
  "language_info": {
   "codemirror_mode": {
    "name": "ipython",
    "version": 3
   },
   "file_extension": ".py",
   "mimetype": "text/x-python",
   "name": "python",
   "nbconvert_exporter": "python",
   "pygments_lexer": "ipython3",
   "version": "3.11.9"
  }
 },
 "nbformat": 4,
 "nbformat_minor": 2
}
